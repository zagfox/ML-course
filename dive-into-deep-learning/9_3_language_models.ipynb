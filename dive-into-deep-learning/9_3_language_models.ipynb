{
  "nbformat": 4,
  "nbformat_minor": 0,
  "metadata": {
    "colab": {
      "provenance": []
    },
    "kernelspec": {
      "name": "python3",
      "display_name": "Python 3"
    },
    "language_info": {
      "name": "python"
    }
  },
  "cells": [
    {
      "cell_type": "code",
      "execution_count": null,
      "metadata": {
        "id": "8hWIvr1iIu58"
      },
      "outputs": [],
      "source": [
        "pip install d2l"
      ]
    },
    {
      "cell_type": "code",
      "source": [
        "import torch\n",
        "from d2l import torch as d2l"
      ],
      "metadata": {
        "id": "87XgMStYJjML"
      },
      "execution_count": 1,
      "outputs": []
    },
    {
      "cell_type": "code",
      "source": [
        "@d2l.add_to_class(d2l.TimeMachine)\n",
        "def __init__(self, batch_size, num_steps, num_train=10000, num_val=5000):\n",
        "    super(d2l.TimeMachine, self).__init__()\n",
        "    self.save_hyperparameters()\n",
        "    corpus, self.vocab = self.build(self._download())\n",
        "    array = torch.tensor([corpus[i:i+num_steps+1]\n",
        "                        for i in range(len(corpus)-num_steps)])\n",
        "    self.X, self.Y = array[:,:-1], array[:,1:]"
      ],
      "metadata": {
        "id": "whmj9whRVNDb"
      },
      "execution_count": 2,
      "outputs": []
    },
    {
      "cell_type": "code",
      "source": [
        "@d2l.add_to_class(d2l.TimeMachine)\n",
        "def get_dataloader(self, train):\n",
        "    idx = slice(0, self.num_train) if train else slice(\n",
        "        self.num_train, self.num_train + self.num_val)\n",
        "    return self.get_tensorloader([self.X, self.Y], train, idx)"
      ],
      "metadata": {
        "id": "XDJPRu8nVVhU"
      },
      "execution_count": 3,
      "outputs": []
    },
    {
      "cell_type": "code",
      "source": [
        "data = d2l.TimeMachine(batch_size=2, num_steps=10)\n",
        "for X, Y in data.train_dataloader():\n",
        "    print('X:', X, '\\nY:', Y)\n",
        "    break"
      ],
      "metadata": {
        "colab": {
          "base_uri": "https://localhost:8080/"
        },
        "id": "KFr2-AQDVZT1",
        "outputId": "754482c7-7e3a-49fd-f0b0-0cee5ca7e890"
      },
      "execution_count": 4,
      "outputs": [
        {
          "output_type": "stream",
          "name": "stdout",
          "text": [
            "Downloading ../data/timemachine.txt from http://d2l-data.s3-accelerate.amazonaws.com/timemachine.txt...\n",
            "X: tensor([[ 5,  0, 16, 15,  0,  2,  0, 20, 21, 19],\n",
            "        [ 2, 19,  6,  0, 14,  6, 19,  6,  0,  2]]) \n",
            "Y: tensor([[ 0, 16, 15,  0,  2,  0, 20, 21, 19, 10],\n",
            "        [19,  6,  0, 14,  6, 19,  6,  0,  2,  3]])\n"
          ]
        }
      ]
    }
  ]
}